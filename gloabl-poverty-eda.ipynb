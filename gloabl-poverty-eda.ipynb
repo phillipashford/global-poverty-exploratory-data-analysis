{
 "cells": [
  {
   "cell_type": "code",
   "execution_count": 2,
   "id": "7adc2556",
   "metadata": {},
   "outputs": [
    {
     "ename": "ModuleNotFoundError",
     "evalue": "No module named 'pandas'",
     "output_type": "error",
     "traceback": [
      "\u001b[1;31m---------------------------------------------------------------------------\u001b[0m",
      "\u001b[1;31mModuleNotFoundError\u001b[0m                       Traceback (most recent call last)",
      "\u001b[1;32m~\\AppData\\Local\\Temp\\ipykernel_4320\\4218278882.py\u001b[0m in \u001b[0;36m<module>\u001b[1;34m\u001b[0m\n\u001b[1;32m----> 1\u001b[1;33m \u001b[1;32mimport\u001b[0m \u001b[0mpandas\u001b[0m \u001b[1;32mas\u001b[0m \u001b[0mpd\u001b[0m\u001b[1;33m\u001b[0m\u001b[1;33m\u001b[0m\u001b[0m\n\u001b[0m\u001b[0;32m      2\u001b[0m \u001b[1;32mimport\u001b[0m \u001b[0mmatplotlib\u001b[0m\u001b[1;33m.\u001b[0m\u001b[0mpyplot\u001b[0m \u001b[1;32mas\u001b[0m \u001b[0mplt\u001b[0m\u001b[1;33m\u001b[0m\u001b[1;33m\u001b[0m\u001b[0m\n\u001b[0;32m      3\u001b[0m \u001b[1;32mimport\u001b[0m \u001b[0mnumpy\u001b[0m \u001b[1;32mas\u001b[0m \u001b[0mnp\u001b[0m\u001b[1;33m\u001b[0m\u001b[1;33m\u001b[0m\u001b[0m\n\u001b[0;32m      4\u001b[0m \u001b[1;32mfrom\u001b[0m \u001b[0msklearn\u001b[0m\u001b[1;33m.\u001b[0m\u001b[0mlinear_model\u001b[0m \u001b[1;32mimport\u001b[0m \u001b[0mLinearRegression\u001b[0m\u001b[1;33m\u001b[0m\u001b[1;33m\u001b[0m\u001b[0m\n\u001b[0;32m      5\u001b[0m \u001b[1;33m\u001b[0m\u001b[0m\n",
      "\u001b[1;31mModuleNotFoundError\u001b[0m: No module named 'pandas'"
     ]
    }
   ],
   "source": [
    "import pandas as pd\n",
    "import matplotlib.pyplot as plt\n",
    "import numpy as np\n",
    "from sklearn.linear_model import LinearRegression\n",
    "\n",
    "data = pd.read_csv('pip_dataset.csv')\n"
   ]
  },
  {
   "cell_type": "code",
   "execution_count": null,
   "id": "0719a46e",
   "metadata": {},
   "outputs": [],
   "source": [
    "# Display the first few rows of the DataFrame\n",
    "data.head()"
   ]
  },
  {
   "cell_type": "code",
   "execution_count": null,
   "id": "d429e415",
   "metadata": {},
   "outputs": [],
   "source": [
    "# Check the dimensions of the DataFrame (rows, columns)\n",
    "data.shape"
   ]
  },
  {
   "cell_type": "code",
   "execution_count": null,
   "id": "25fc2ab2",
   "metadata": {},
   "outputs": [],
   "source": [
    "# Get statistical summary of the numerical columns\n",
    "data.describe()"
   ]
  },
  {
   "cell_type": "code",
   "execution_count": null,
   "id": "73656420",
   "metadata": {},
   "outputs": [],
   "source": [
    "# Get information about the DataFrame, including column names and data types\n",
    "data.info()"
   ]
  },
  {
   "cell_type": "code",
   "execution_count": null,
   "id": "7b6f79a5",
   "metadata": {},
   "outputs": [],
   "source": [
    "# Filter the data to only include years from 1990 onwards and data from the 2017 version\n",
    "data_1990_onwards = data[(data['year'] >= 1990) & (data['ppp_version'] == 2017)]\n",
    "\n",
    "## Further filter the data to specify the individual country data vs the world data\n",
    "data_countries = data_1990_onwards[data_1990_onwards['country'] != 'World']\n",
    "data_world = data_1990_onwards[data_1990_onwards['country'] == 'World']\n",
    "\n",
    "# Data processing code\n",
    "mean_gini_by_year = data_countries.groupby('year')['gini'].mean().reset_index()\n",
    "mean_poverty_by_year = data_world.groupby('year')['headcount_ratio_international_povline'].mean().reset_index()\n",
    "\n",
    "# Create a 1x2 layout for the subplots\n",
    "fig, axes = plt.subplots(1, 2, figsize=(15, 5))\n",
    "\n",
    "# Define a helper function to fit and plot a trendline\n",
    "def plot_trendline(x, y, ax, title):\n",
    "    X = x.values.reshape(-1, 1)\n",
    "    reg = LinearRegression().fit(X, y)\n",
    "    y_pred = reg.predict(X)\n",
    "    ax.plot(x, y, label=title)\n",
    "    ax.plot(x, y_pred, color='red', linestyle='--', label='Trendline')\n",
    "\n",
    "# Plot the Mean Gini Coefficient chart on the first subplot\n",
    "plot_trendline(mean_gini_by_year['year'], mean_gini_by_year['gini'], axes[0], 'Mean Gini Coefficient')\n",
    "axes[0].set_xlabel('Year')\n",
    "axes[0].set_ylabel('Mean Gini Coefficient')\n",
    "axes[0].set_title('Global Income Inequality (Mean Gini Coefficient) with Trendline')\n",
    "axes[0].legend()\n",
    "axes[0].grid(True)\n",
    "\n",
    "# Plot the Mean Poverty Level chart for the world data on the second subplot\n",
    "plot_trendline(mean_poverty_by_year['year'], mean_poverty_by_year['headcount_ratio_international_povline'], axes[1], 'Mean Poverty Level')\n",
    "axes[1].set_xlabel('Year')\n",
    "axes[1].set_ylabel('Mean Poverty Level')\n",
    "axes[1].set_title('Global Poverty Level with Trendline')\n",
    "axes[1].legend()\n",
    "axes[1].grid(True)\n",
    "\n",
    "# Display the charts\n",
    "plt.show()\n"
   ]
  },
  {
   "cell_type": "code",
   "execution_count": null,
   "id": "88245026",
   "metadata": {},
   "outputs": [],
   "source": [
    "# Filter the country data for first and the last year (Gini coefficients are only available on the country level)\n",
    "data_1990_extremes = data_1990_onwards[(data_1990_onwards['year'] == data_1990_onwards['year'].min()) | (data_1990_onwards['year'] == data_1990_onwards['year'].max())]\n",
    "\n",
    "# Calculate the mean Gini coefficient for both years\n",
    "gini_by_year = data_1990_extremes.groupby('year')['gini'].mean().reset_index()\n",
    "\n",
    "# Filter the world data for first and the last year\n",
    "data_1990_world_extremes = data_world[(data_world['year'] == data_world['year'].min()) | (data_world['year'] == data_world['year'].max())]\n",
    "\n",
    "# Calculate the global mean poverty level (headcount_ratio_international_povline)\n",
    "mean_poverty_by_year = data_1990_world_extremes.groupby('year')['headcount_ratio_international_povline'].mean().reset_index()\n",
    "\n",
    "# Set index with labels for the Gini dataframe\n",
    "gini_by_year.index = ['First Year', 'Last Year']\n",
    "gini_by_year.index.name = 'Year'\n",
    "\n",
    "# Set index with labels for the Poverty dataframe\n",
    "mean_poverty_by_year.index = ['First Year', 'Last Year']\n",
    "mean_poverty_by_year.index.name = 'Year'\n",
    "\n",
    "# Display the dataframes with labels\n",
    "print(\"Mean Gini Coefficient:\")\n",
    "print(gini_by_year)\n",
    "print(\"\\nMean Poverty Level:\")\n",
    "print(mean_poverty_by_year)\n"
   ]
  }
 ],
 "metadata": {
  "kernelspec": {
   "display_name": "Python 3 (ipykernel)",
   "language": "python",
   "name": "python3"
  },
  "language_info": {
   "codemirror_mode": {
    "name": "ipython",
    "version": 3
   },
   "file_extension": ".py",
   "mimetype": "text/x-python",
   "name": "python",
   "nbconvert_exporter": "python",
   "pygments_lexer": "ipython3",
   "version": "3.7.16"
  }
 },
 "nbformat": 4,
 "nbformat_minor": 5
}
